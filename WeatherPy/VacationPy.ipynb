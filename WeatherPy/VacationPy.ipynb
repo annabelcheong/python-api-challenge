{
 "metadata": {
  "language_info": {
   "codemirror_mode": {
    "name": "ipython",
    "version": 3
   },
   "file_extension": ".py",
   "mimetype": "text/x-python",
   "name": "python",
   "nbconvert_exporter": "python",
   "pygments_lexer": "ipython3",
   "version": "3.6.10-final"
  },
  "orig_nbformat": 2,
  "kernelspec": {
   "name": "python3",
   "display_name": "Python 3",
   "language": "python"
  }
 },
 "nbformat": 4,
 "nbformat_minor": 2,
 "cells": [
  {
   "source": [
    "Note: if you having trouble displaying the maps try running jupyter nbextension enable --py gmaps in your environment and retry.\n",
    "\n",
    "\n",
    "Create a heat map that displays the humidity for every city from the part I of the homework.\n",
    "\n",
    "Narrow down the DataFrame to find your ideal weather condition. For example:\n",
    "\n",
    "\n",
    "A max temperature lower than 80 degrees but higher than 70.\n",
    "\n",
    "\n",
    "Wind speed less than 10 mph.\n",
    "\n",
    "\n",
    "Zero cloudiness.\n",
    "\n",
    "\n",
    "Drop any rows that don't contain all three conditions. You want to be sure the weather is ideal.\n",
    "\n",
    "\n",
    "Note: Feel free to adjust to your specifications but be sure to limit the number of rows returned by your API requests to a reasonable number.\n",
    "\n",
    "\n",
    "\n",
    "\n",
    "Using Google Places API to find the first hotel for each city located within 5000 meters of your coordinates.\n",
    "\n",
    "\n",
    "Plot the hotels on top of the humidity heatmap with each pin containing the Hotel Name, City, and Country.\n",
    "\n"
   ],
   "cell_type": "markdown",
   "metadata": {}
  },
  {
   "cell_type": "code",
   "execution_count": 34,
   "metadata": {},
   "outputs": [],
   "source": [
    "# Dependencies\n",
    "import requests\n",
    "import json\n",
    "\n",
    "# Google developer API key\n",
    "from api_keys import g_key"
   ]
  },
  {
   "cell_type": "code",
   "execution_count": 42,
   "metadata": {},
   "outputs": [
    {
     "output_type": "execute_result",
     "data": {
      "text/plain": [
       "          City Name   Latitude   Longitude  Temperature  Latitude Humidity  \\\n",
       "1         hithadhoo -20.841587   85.603908        82.76               68.0   \n",
       "2        sao filipe  13.293488  -34.982080        75.88               60.0   \n",
       "4             bluff -71.214122  172.363302        57.00               84.0   \n",
       "5    saint-philippe -48.409808   62.306578        75.02               65.0   \n",
       "6      norman wells  68.737352 -120.152631       -13.00               77.0   \n",
       "..              ...        ...         ...          ...                ...   \n",
       "495             ous  61.793925   61.297353       -17.07               88.0   \n",
       "496   qasigiannguit  66.282569  -48.212406        19.40               42.0   \n",
       "497     provideniya  62.015523 -174.457364         4.93               84.0   \n",
       "498      nanortalik  52.630018  -35.201380        22.64               89.0   \n",
       "499       namatanai   4.905919  157.079683        80.69               76.0   \n",
       "\n",
       "     Cloudiness  Wind Speed  \n",
       "1          77.0        3.94  \n",
       "2           0.0        6.08  \n",
       "4          64.0       18.01  \n",
       "5          47.0        4.61  \n",
       "6          90.0        3.51  \n",
       "..          ...         ...  \n",
       "495       100.0        6.85  \n",
       "496        75.0        9.22  \n",
       "497         2.0        4.25  \n",
       "498         0.0       11.48  \n",
       "499        80.0        4.45  \n",
       "\n",
       "[457 rows x 7 columns]"
      ],
      "text/html": "<div>\n<style scoped>\n    .dataframe tbody tr th:only-of-type {\n        vertical-align: middle;\n    }\n\n    .dataframe tbody tr th {\n        vertical-align: top;\n    }\n\n    .dataframe thead th {\n        text-align: right;\n    }\n</style>\n<table border=\"1\" class=\"dataframe\">\n  <thead>\n    <tr style=\"text-align: right;\">\n      <th></th>\n      <th>City Name</th>\n      <th>Latitude</th>\n      <th>Longitude</th>\n      <th>Temperature</th>\n      <th>Latitude Humidity</th>\n      <th>Cloudiness</th>\n      <th>Wind Speed</th>\n    </tr>\n  </thead>\n  <tbody>\n    <tr>\n      <th>1</th>\n      <td>hithadhoo</td>\n      <td>-20.841587</td>\n      <td>85.603908</td>\n      <td>82.76</td>\n      <td>68.0</td>\n      <td>77.0</td>\n      <td>3.94</td>\n    </tr>\n    <tr>\n      <th>2</th>\n      <td>sao filipe</td>\n      <td>13.293488</td>\n      <td>-34.982080</td>\n      <td>75.88</td>\n      <td>60.0</td>\n      <td>0.0</td>\n      <td>6.08</td>\n    </tr>\n    <tr>\n      <th>4</th>\n      <td>bluff</td>\n      <td>-71.214122</td>\n      <td>172.363302</td>\n      <td>57.00</td>\n      <td>84.0</td>\n      <td>64.0</td>\n      <td>18.01</td>\n    </tr>\n    <tr>\n      <th>5</th>\n      <td>saint-philippe</td>\n      <td>-48.409808</td>\n      <td>62.306578</td>\n      <td>75.02</td>\n      <td>65.0</td>\n      <td>47.0</td>\n      <td>4.61</td>\n    </tr>\n    <tr>\n      <th>6</th>\n      <td>norman wells</td>\n      <td>68.737352</td>\n      <td>-120.152631</td>\n      <td>-13.00</td>\n      <td>77.0</td>\n      <td>90.0</td>\n      <td>3.51</td>\n    </tr>\n    <tr>\n      <th>...</th>\n      <td>...</td>\n      <td>...</td>\n      <td>...</td>\n      <td>...</td>\n      <td>...</td>\n      <td>...</td>\n      <td>...</td>\n    </tr>\n    <tr>\n      <th>495</th>\n      <td>ous</td>\n      <td>61.793925</td>\n      <td>61.297353</td>\n      <td>-17.07</td>\n      <td>88.0</td>\n      <td>100.0</td>\n      <td>6.85</td>\n    </tr>\n    <tr>\n      <th>496</th>\n      <td>qasigiannguit</td>\n      <td>66.282569</td>\n      <td>-48.212406</td>\n      <td>19.40</td>\n      <td>42.0</td>\n      <td>75.0</td>\n      <td>9.22</td>\n    </tr>\n    <tr>\n      <th>497</th>\n      <td>provideniya</td>\n      <td>62.015523</td>\n      <td>-174.457364</td>\n      <td>4.93</td>\n      <td>84.0</td>\n      <td>2.0</td>\n      <td>4.25</td>\n    </tr>\n    <tr>\n      <th>498</th>\n      <td>nanortalik</td>\n      <td>52.630018</td>\n      <td>-35.201380</td>\n      <td>22.64</td>\n      <td>89.0</td>\n      <td>0.0</td>\n      <td>11.48</td>\n    </tr>\n    <tr>\n      <th>499</th>\n      <td>namatanai</td>\n      <td>4.905919</td>\n      <td>157.079683</td>\n      <td>80.69</td>\n      <td>76.0</td>\n      <td>80.0</td>\n      <td>4.45</td>\n    </tr>\n  </tbody>\n</table>\n<p>457 rows × 7 columns</p>\n</div>"
     },
     "metadata": {},
     "execution_count": 42
    }
   ],
   "source": [
    "#import dataframe weather1_data from 1st part of assignment (WeatherPy.ipynb)\n",
    "%store -r weather1_data\n",
    "weather1_data"
   ]
  },
  {
   "cell_type": "code",
   "execution_count": null,
   "metadata": {},
   "outputs": [],
   "source": [
    "#Narrow down ideal conditions of city\n",
    "\n",
    "#Ideal temperature Range\n",
    "#A max temperature lower than 80 degrees but higher than 70.\n",
    "\n",
    "#Ideal wind speed: \n",
    "#Wind speed less than 10 mph.\n",
    "\n",
    "#Ideal cloudiness:\n",
    "#Zero cloudiness."
   ]
  }
 ]
}