{
 "metadata": {
  "language_info": {
   "codemirror_mode": {
    "name": "ipython",
    "version": 3
   },
   "file_extension": ".py",
   "mimetype": "text/x-python",
   "name": "python",
   "nbconvert_exporter": "python",
   "pygments_lexer": "ipython3",
   "version": "3.6.10-final"
  },
  "orig_nbformat": 2,
  "kernelspec": {
   "name": "python3",
   "display_name": "Python 3",
   "language": "python"
  }
 },
 "nbformat": 4,
 "nbformat_minor": 2,
 "cells": [
  {
   "source": [
    "Note: if you having trouble displaying the maps try running jupyter nbextension enable --py gmaps in your environment and retry.\n",
    "\n",
    "\n",
    "Create a heat map that displays the humidity for every city from the part I of the homework.\n",
    "\n",
    "Narrow down the DataFrame to find your ideal weather condition. For example:\n",
    "\n",
    "\n",
    "A max temperature lower than 80 degrees but higher than 70.\n",
    "\n",
    "\n",
    "Wind speed less than 10 mph.\n",
    "\n",
    "\n",
    "Zero cloudiness.\n",
    "\n",
    "\n",
    "Drop any rows that don't contain all three conditions. You want to be sure the weather is ideal.\n",
    "\n",
    "\n",
    "Note: Feel free to adjust to your specifications but be sure to limit the number of rows returned by your API requests to a reasonable number.\n",
    "\n",
    "\n",
    "\n",
    "\n",
    "Using Google Places API to find the first hotel for each city located within 5000 meters of your coordinates.\n",
    "\n",
    "\n",
    "Plot the hotels on top of the humidity heatmap with each pin containing the Hotel Name, City, and Country.\n",
    "\n"
   ],
   "cell_type": "markdown",
   "metadata": {}
  },
  {
   "cell_type": "code",
   "execution_count": 34,
   "metadata": {},
   "outputs": [],
   "source": [
    "# Dependencies\n",
    "import requests\n",
    "import json\n",
    "\n",
    "# Google developer API key\n",
    "from api_keys import g_key"
   ]
  },
  {
   "cell_type": "code",
   "execution_count": 3,
   "metadata": {},
   "outputs": [
    {
     "output_type": "execute_result",
     "data": {
      "text/plain": [
       "          City Name   Latitude   Longitude  Temperature  Latitude Humidity  \\\n",
       "1         hithadhoo -20.841587   85.603908        82.76               68.0   \n",
       "2        sao filipe  13.293488  -34.982080        75.88               60.0   \n",
       "4             bluff -71.214122  172.363302        57.00               84.0   \n",
       "5    saint-philippe -48.409808   62.306578        75.02               65.0   \n",
       "6      norman wells  68.737352 -120.152631       -13.00               77.0   \n",
       "..              ...        ...         ...          ...                ...   \n",
       "495             ous  61.793925   61.297353       -17.07               88.0   \n",
       "496   qasigiannguit  66.282569  -48.212406        19.40               42.0   \n",
       "497     provideniya  62.015523 -174.457364         4.93               84.0   \n",
       "498      nanortalik  52.630018  -35.201380        22.64               89.0   \n",
       "499       namatanai   4.905919  157.079683        80.69               76.0   \n",
       "\n",
       "     Cloudiness  Wind Speed  \n",
       "1          77.0        3.94  \n",
       "2           0.0        6.08  \n",
       "4          64.0       18.01  \n",
       "5          47.0        4.61  \n",
       "6          90.0        3.51  \n",
       "..          ...         ...  \n",
       "495       100.0        6.85  \n",
       "496        75.0        9.22  \n",
       "497         2.0        4.25  \n",
       "498         0.0       11.48  \n",
       "499        80.0        4.45  \n",
       "\n",
       "[457 rows x 7 columns]"
      ],
      "text/html": "<div>\n<style scoped>\n    .dataframe tbody tr th:only-of-type {\n        vertical-align: middle;\n    }\n\n    .dataframe tbody tr th {\n        vertical-align: top;\n    }\n\n    .dataframe thead th {\n        text-align: right;\n    }\n</style>\n<table border=\"1\" class=\"dataframe\">\n  <thead>\n    <tr style=\"text-align: right;\">\n      <th></th>\n      <th>City Name</th>\n      <th>Latitude</th>\n      <th>Longitude</th>\n      <th>Temperature</th>\n      <th>Latitude Humidity</th>\n      <th>Cloudiness</th>\n      <th>Wind Speed</th>\n    </tr>\n  </thead>\n  <tbody>\n    <tr>\n      <th>1</th>\n      <td>hithadhoo</td>\n      <td>-20.841587</td>\n      <td>85.603908</td>\n      <td>82.76</td>\n      <td>68.0</td>\n      <td>77.0</td>\n      <td>3.94</td>\n    </tr>\n    <tr>\n      <th>2</th>\n      <td>sao filipe</td>\n      <td>13.293488</td>\n      <td>-34.982080</td>\n      <td>75.88</td>\n      <td>60.0</td>\n      <td>0.0</td>\n      <td>6.08</td>\n    </tr>\n    <tr>\n      <th>4</th>\n      <td>bluff</td>\n      <td>-71.214122</td>\n      <td>172.363302</td>\n      <td>57.00</td>\n      <td>84.0</td>\n      <td>64.0</td>\n      <td>18.01</td>\n    </tr>\n    <tr>\n      <th>5</th>\n      <td>saint-philippe</td>\n      <td>-48.409808</td>\n      <td>62.306578</td>\n      <td>75.02</td>\n      <td>65.0</td>\n      <td>47.0</td>\n      <td>4.61</td>\n    </tr>\n    <tr>\n      <th>6</th>\n      <td>norman wells</td>\n      <td>68.737352</td>\n      <td>-120.152631</td>\n      <td>-13.00</td>\n      <td>77.0</td>\n      <td>90.0</td>\n      <td>3.51</td>\n    </tr>\n    <tr>\n      <th>...</th>\n      <td>...</td>\n      <td>...</td>\n      <td>...</td>\n      <td>...</td>\n      <td>...</td>\n      <td>...</td>\n      <td>...</td>\n    </tr>\n    <tr>\n      <th>495</th>\n      <td>ous</td>\n      <td>61.793925</td>\n      <td>61.297353</td>\n      <td>-17.07</td>\n      <td>88.0</td>\n      <td>100.0</td>\n      <td>6.85</td>\n    </tr>\n    <tr>\n      <th>496</th>\n      <td>qasigiannguit</td>\n      <td>66.282569</td>\n      <td>-48.212406</td>\n      <td>19.40</td>\n      <td>42.0</td>\n      <td>75.0</td>\n      <td>9.22</td>\n    </tr>\n    <tr>\n      <th>497</th>\n      <td>provideniya</td>\n      <td>62.015523</td>\n      <td>-174.457364</td>\n      <td>4.93</td>\n      <td>84.0</td>\n      <td>2.0</td>\n      <td>4.25</td>\n    </tr>\n    <tr>\n      <th>498</th>\n      <td>nanortalik</td>\n      <td>52.630018</td>\n      <td>-35.201380</td>\n      <td>22.64</td>\n      <td>89.0</td>\n      <td>0.0</td>\n      <td>11.48</td>\n    </tr>\n    <tr>\n      <th>499</th>\n      <td>namatanai</td>\n      <td>4.905919</td>\n      <td>157.079683</td>\n      <td>80.69</td>\n      <td>76.0</td>\n      <td>80.0</td>\n      <td>4.45</td>\n    </tr>\n  </tbody>\n</table>\n<p>457 rows × 7 columns</p>\n</div>"
     },
     "metadata": {},
     "execution_count": 3
    }
   ],
   "source": [
    "#import dataframe weather1_data from 1st part of assignment (WeatherPy.ipynb)\n",
    "%store -r weather1_data\n",
    "weather1_data"
   ]
  },
  {
   "cell_type": "code",
   "execution_count": 35,
   "metadata": {},
   "outputs": [
    {
     "output_type": "execute_result",
     "data": {
      "text/plain": [
       "        City Name   Latitude   Longitude  Temperature  Latitude Humidity  \\\n",
       "117         pisco -24.358740  -96.527155        72.79               73.0   \n",
       "317  puerto ayora  -9.139348 -109.067111        75.99               95.0   \n",
       "355  puerto ayora -11.055816 -105.073509        75.99               95.0   \n",
       "470  puerto ayora -22.475062 -105.470416        75.99               95.0   \n",
       "207  puerto ayora  -6.534122 -108.004339        75.99               95.0   \n",
       "492  puerto ayora  -1.564930 -103.771083        75.99               95.0   \n",
       "14   puerto ayora -11.683789 -104.103328        75.99               95.0   \n",
       "156  puerto ayora  -7.171973  -99.840649        75.99               95.0   \n",
       "253       hadgaon  19.437249   77.936485        77.04               26.0   \n",
       "227    mapastepec  14.809307  -93.248545        77.83               55.0   \n",
       "420   bodden town  17.986858  -80.050378        77.70               88.0   \n",
       "426          lima -18.508213  -88.568865        73.53               83.0   \n",
       "2      sao filipe  13.293488  -34.982080        75.88               60.0   \n",
       "345      barranca  -3.225088  -76.122612        75.15               64.0   \n",
       "377        khetia  21.632076   74.539849        77.07               25.0   \n",
       "135      hermanus -81.063215    5.489997        73.99               53.0   \n",
       "321      hermanus -76.492366    1.848135        73.99               53.0   \n",
       "366      hermanus -79.692065    8.244351        73.99               53.0   \n",
       "28        salalah  17.472249   52.185599        77.00               47.0   \n",
       "330       salalah  11.143924   58.538614        77.00               47.0   \n",
       "\n",
       "     Cloudiness  Wind Speed  \n",
       "117         0.0        1.14  \n",
       "317        16.0        1.99  \n",
       "355        16.0        1.99  \n",
       "470        16.0        1.99  \n",
       "207        16.0        1.99  \n",
       "492        16.0        1.99  \n",
       "14         16.0        1.99  \n",
       "156        16.0        1.99  \n",
       "253         0.0        2.35  \n",
       "227         7.0        2.66  \n",
       "420        20.0        3.44  \n",
       "426        20.0        4.61  \n",
       "2           0.0        6.08  \n",
       "345         6.0        6.35  \n",
       "377         0.0        7.49  \n",
       "135         8.0        8.01  \n",
       "321         8.0        8.01  \n",
       "366         8.0        8.01  \n",
       "28          0.0        9.22  \n",
       "330         0.0        9.22  "
      ],
      "text/html": "<div>\n<style scoped>\n    .dataframe tbody tr th:only-of-type {\n        vertical-align: middle;\n    }\n\n    .dataframe tbody tr th {\n        vertical-align: top;\n    }\n\n    .dataframe thead th {\n        text-align: right;\n    }\n</style>\n<table border=\"1\" class=\"dataframe\">\n  <thead>\n    <tr style=\"text-align: right;\">\n      <th></th>\n      <th>City Name</th>\n      <th>Latitude</th>\n      <th>Longitude</th>\n      <th>Temperature</th>\n      <th>Latitude Humidity</th>\n      <th>Cloudiness</th>\n      <th>Wind Speed</th>\n    </tr>\n  </thead>\n  <tbody>\n    <tr>\n      <th>117</th>\n      <td>pisco</td>\n      <td>-24.358740</td>\n      <td>-96.527155</td>\n      <td>72.79</td>\n      <td>73.0</td>\n      <td>0.0</td>\n      <td>1.14</td>\n    </tr>\n    <tr>\n      <th>317</th>\n      <td>puerto ayora</td>\n      <td>-9.139348</td>\n      <td>-109.067111</td>\n      <td>75.99</td>\n      <td>95.0</td>\n      <td>16.0</td>\n      <td>1.99</td>\n    </tr>\n    <tr>\n      <th>355</th>\n      <td>puerto ayora</td>\n      <td>-11.055816</td>\n      <td>-105.073509</td>\n      <td>75.99</td>\n      <td>95.0</td>\n      <td>16.0</td>\n      <td>1.99</td>\n    </tr>\n    <tr>\n      <th>470</th>\n      <td>puerto ayora</td>\n      <td>-22.475062</td>\n      <td>-105.470416</td>\n      <td>75.99</td>\n      <td>95.0</td>\n      <td>16.0</td>\n      <td>1.99</td>\n    </tr>\n    <tr>\n      <th>207</th>\n      <td>puerto ayora</td>\n      <td>-6.534122</td>\n      <td>-108.004339</td>\n      <td>75.99</td>\n      <td>95.0</td>\n      <td>16.0</td>\n      <td>1.99</td>\n    </tr>\n    <tr>\n      <th>492</th>\n      <td>puerto ayora</td>\n      <td>-1.564930</td>\n      <td>-103.771083</td>\n      <td>75.99</td>\n      <td>95.0</td>\n      <td>16.0</td>\n      <td>1.99</td>\n    </tr>\n    <tr>\n      <th>14</th>\n      <td>puerto ayora</td>\n      <td>-11.683789</td>\n      <td>-104.103328</td>\n      <td>75.99</td>\n      <td>95.0</td>\n      <td>16.0</td>\n      <td>1.99</td>\n    </tr>\n    <tr>\n      <th>156</th>\n      <td>puerto ayora</td>\n      <td>-7.171973</td>\n      <td>-99.840649</td>\n      <td>75.99</td>\n      <td>95.0</td>\n      <td>16.0</td>\n      <td>1.99</td>\n    </tr>\n    <tr>\n      <th>253</th>\n      <td>hadgaon</td>\n      <td>19.437249</td>\n      <td>77.936485</td>\n      <td>77.04</td>\n      <td>26.0</td>\n      <td>0.0</td>\n      <td>2.35</td>\n    </tr>\n    <tr>\n      <th>227</th>\n      <td>mapastepec</td>\n      <td>14.809307</td>\n      <td>-93.248545</td>\n      <td>77.83</td>\n      <td>55.0</td>\n      <td>7.0</td>\n      <td>2.66</td>\n    </tr>\n    <tr>\n      <th>420</th>\n      <td>bodden town</td>\n      <td>17.986858</td>\n      <td>-80.050378</td>\n      <td>77.70</td>\n      <td>88.0</td>\n      <td>20.0</td>\n      <td>3.44</td>\n    </tr>\n    <tr>\n      <th>426</th>\n      <td>lima</td>\n      <td>-18.508213</td>\n      <td>-88.568865</td>\n      <td>73.53</td>\n      <td>83.0</td>\n      <td>20.0</td>\n      <td>4.61</td>\n    </tr>\n    <tr>\n      <th>2</th>\n      <td>sao filipe</td>\n      <td>13.293488</td>\n      <td>-34.982080</td>\n      <td>75.88</td>\n      <td>60.0</td>\n      <td>0.0</td>\n      <td>6.08</td>\n    </tr>\n    <tr>\n      <th>345</th>\n      <td>barranca</td>\n      <td>-3.225088</td>\n      <td>-76.122612</td>\n      <td>75.15</td>\n      <td>64.0</td>\n      <td>6.0</td>\n      <td>6.35</td>\n    </tr>\n    <tr>\n      <th>377</th>\n      <td>khetia</td>\n      <td>21.632076</td>\n      <td>74.539849</td>\n      <td>77.07</td>\n      <td>25.0</td>\n      <td>0.0</td>\n      <td>7.49</td>\n    </tr>\n    <tr>\n      <th>135</th>\n      <td>hermanus</td>\n      <td>-81.063215</td>\n      <td>5.489997</td>\n      <td>73.99</td>\n      <td>53.0</td>\n      <td>8.0</td>\n      <td>8.01</td>\n    </tr>\n    <tr>\n      <th>321</th>\n      <td>hermanus</td>\n      <td>-76.492366</td>\n      <td>1.848135</td>\n      <td>73.99</td>\n      <td>53.0</td>\n      <td>8.0</td>\n      <td>8.01</td>\n    </tr>\n    <tr>\n      <th>366</th>\n      <td>hermanus</td>\n      <td>-79.692065</td>\n      <td>8.244351</td>\n      <td>73.99</td>\n      <td>53.0</td>\n      <td>8.0</td>\n      <td>8.01</td>\n    </tr>\n    <tr>\n      <th>28</th>\n      <td>salalah</td>\n      <td>17.472249</td>\n      <td>52.185599</td>\n      <td>77.00</td>\n      <td>47.0</td>\n      <td>0.0</td>\n      <td>9.22</td>\n    </tr>\n    <tr>\n      <th>330</th>\n      <td>salalah</td>\n      <td>11.143924</td>\n      <td>58.538614</td>\n      <td>77.00</td>\n      <td>47.0</td>\n      <td>0.0</td>\n      <td>9.22</td>\n    </tr>\n  </tbody>\n</table>\n</div>"
     },
     "metadata": {},
     "execution_count": 35
    }
   ],
   "source": [
    "#Narrow down ideal conditions of city\n",
    "\n",
    "#Ideal temperature Range (in Farenheit)\n",
    "ideal_min_temp=70 \n",
    "ideal_max_temp=80\n",
    "#Ideal wind speed: speed less than... (in mph)\n",
    "ideal_max_speed=10\n",
    "#Ideal cloudiness: cloudiness less than... (%)\n",
    "ideal_cloudiness=25\n",
    "\n",
    "ideal_df=weather1_data[(weather1_data[\"Temperature\"]>=ideal_min_temp) & (weather1_data[\"Temperature\"]<=ideal_max_temp) & (weather1_data[\"Wind Speed\"]<=10) & (weather1_data[\"Cloudiness\"]<=ideal_cloudiness)]\n",
    "ideal_df\n",
    "\n",
    "#Dataframe sorted ascending by least windy city.\n",
    "idealbylowwind_df=temp_df.sort_values(by=\"Wind Speed\", ascending=True)\n",
    "idealbylowwind_df"
   ]
  },
  {
   "cell_type": "code",
   "execution_count": null,
   "metadata": {},
   "outputs": [],
   "source": []
  }
 ]
}