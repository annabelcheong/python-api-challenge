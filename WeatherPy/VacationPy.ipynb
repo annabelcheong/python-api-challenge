{
 "metadata": {
  "language_info": {
   "codemirror_mode": {
    "name": "ipython",
    "version": 3
   },
   "file_extension": ".py",
   "mimetype": "text/x-python",
   "name": "python",
   "nbconvert_exporter": "python",
   "pygments_lexer": "ipython3",
   "version": "3.6.10-final"
  },
  "orig_nbformat": 2,
  "kernelspec": {
   "name": "python3",
   "display_name": "Python 3",
   "language": "python"
  }
 },
 "nbformat": 4,
 "nbformat_minor": 2,
 "cells": [
  {
   "source": [
    "Note: if you having trouble displaying the maps try running jupyter nbextension enable --py gmaps in your environment and retry.\n",
    "\n",
    "\n",
    "Create a heat map that displays the humidity for every city from the part I of the homework.\n",
    "\n",
    "Narrow down the DataFrame to find your ideal weather condition. For example:\n",
    "\n",
    "\n",
    "A max temperature lower than 80 degrees but higher than 70.\n",
    "\n",
    "\n",
    "Wind speed less than 10 mph.\n",
    "\n",
    "\n",
    "Zero cloudiness.\n",
    "\n",
    "\n",
    "Drop any rows that don't contain all three conditions. You want to be sure the weather is ideal.\n",
    "\n",
    "\n",
    "Note: Feel free to adjust to your specifications but be sure to limit the number of rows returned by your API requests to a reasonable number.\n",
    "\n",
    "\n",
    "\n",
    "\n",
    "Using Google Places API to find the first hotel for each city located within 5000 meters of your coordinates.\n",
    "\n",
    "\n",
    "Plot the hotels on top of the humidity heatmap with each pin containing the Hotel Name, City, and Country.\n",
    "\n"
   ],
   "cell_type": "markdown",
   "metadata": {}
  },
  {
   "cell_type": "code",
   "execution_count": 1,
   "metadata": {},
   "outputs": [],
   "source": [
    "# Dependencies\n",
    "import requests\n",
    "import json\n",
    "import gmaps\n",
    "import pandas as pd\n",
    "\n",
    "# Google developer API key\n",
    "from api_keys import g_key\n",
    "\n",
    "# Configure gmaps\n",
    "gmaps.configure(api_key=g_key)"
   ]
  },
  {
   "source": [
    "Humidity Heatmaps for all the cities (from WeatherPy.ipynb Part I)"
   ],
   "cell_type": "markdown",
   "metadata": {}
  },
  {
   "cell_type": "code",
   "execution_count": 2,
   "metadata": {},
   "outputs": [
    {
     "output_type": "execute_result",
     "data": {
      "text/plain": [
       "          City Name   Latitude   Longitude  Temperature  Latitude Humidity  \\\n",
       "1         hithadhoo -20.841587   85.603908        82.76               68.0   \n",
       "2        sao filipe  13.293488  -34.982080        75.88               60.0   \n",
       "4             bluff -71.214122  172.363302        57.00               84.0   \n",
       "5    saint-philippe -48.409808   62.306578        75.02               65.0   \n",
       "6      norman wells  68.737352 -120.152631       -13.00               77.0   \n",
       "..              ...        ...         ...          ...                ...   \n",
       "486         gravdal  70.454049   13.348788        24.80               74.0   \n",
       "488        souillac -51.565186   73.401185        82.40               74.0   \n",
       "495             ous  61.793925   61.297353       -17.07               88.0   \n",
       "496   qasigiannguit  66.282569  -48.212406        19.40               42.0   \n",
       "499       namatanai   4.905919  157.079683        80.69               76.0   \n",
       "\n",
       "     Cloudiness  Wind Speed  \n",
       "1          77.0        3.94  \n",
       "2           0.0        6.08  \n",
       "4          64.0       18.01  \n",
       "5          47.0        4.61  \n",
       "6          90.0        3.51  \n",
       "..          ...         ...  \n",
       "486        75.0        5.75  \n",
       "488        40.0        6.91  \n",
       "495       100.0        6.85  \n",
       "496        75.0        9.22  \n",
       "499        80.0        4.45  \n",
       "\n",
       "[245 rows x 7 columns]"
      ],
      "text/html": "<div>\n<style scoped>\n    .dataframe tbody tr th:only-of-type {\n        vertical-align: middle;\n    }\n\n    .dataframe tbody tr th {\n        vertical-align: top;\n    }\n\n    .dataframe thead th {\n        text-align: right;\n    }\n</style>\n<table border=\"1\" class=\"dataframe\">\n  <thead>\n    <tr style=\"text-align: right;\">\n      <th></th>\n      <th>City Name</th>\n      <th>Latitude</th>\n      <th>Longitude</th>\n      <th>Temperature</th>\n      <th>Latitude Humidity</th>\n      <th>Cloudiness</th>\n      <th>Wind Speed</th>\n    </tr>\n  </thead>\n  <tbody>\n    <tr>\n      <th>1</th>\n      <td>hithadhoo</td>\n      <td>-20.841587</td>\n      <td>85.603908</td>\n      <td>82.76</td>\n      <td>68.0</td>\n      <td>77.0</td>\n      <td>3.94</td>\n    </tr>\n    <tr>\n      <th>2</th>\n      <td>sao filipe</td>\n      <td>13.293488</td>\n      <td>-34.982080</td>\n      <td>75.88</td>\n      <td>60.0</td>\n      <td>0.0</td>\n      <td>6.08</td>\n    </tr>\n    <tr>\n      <th>4</th>\n      <td>bluff</td>\n      <td>-71.214122</td>\n      <td>172.363302</td>\n      <td>57.00</td>\n      <td>84.0</td>\n      <td>64.0</td>\n      <td>18.01</td>\n    </tr>\n    <tr>\n      <th>5</th>\n      <td>saint-philippe</td>\n      <td>-48.409808</td>\n      <td>62.306578</td>\n      <td>75.02</td>\n      <td>65.0</td>\n      <td>47.0</td>\n      <td>4.61</td>\n    </tr>\n    <tr>\n      <th>6</th>\n      <td>norman wells</td>\n      <td>68.737352</td>\n      <td>-120.152631</td>\n      <td>-13.00</td>\n      <td>77.0</td>\n      <td>90.0</td>\n      <td>3.51</td>\n    </tr>\n    <tr>\n      <th>...</th>\n      <td>...</td>\n      <td>...</td>\n      <td>...</td>\n      <td>...</td>\n      <td>...</td>\n      <td>...</td>\n      <td>...</td>\n    </tr>\n    <tr>\n      <th>486</th>\n      <td>gravdal</td>\n      <td>70.454049</td>\n      <td>13.348788</td>\n      <td>24.80</td>\n      <td>74.0</td>\n      <td>75.0</td>\n      <td>5.75</td>\n    </tr>\n    <tr>\n      <th>488</th>\n      <td>souillac</td>\n      <td>-51.565186</td>\n      <td>73.401185</td>\n      <td>82.40</td>\n      <td>74.0</td>\n      <td>40.0</td>\n      <td>6.91</td>\n    </tr>\n    <tr>\n      <th>495</th>\n      <td>ous</td>\n      <td>61.793925</td>\n      <td>61.297353</td>\n      <td>-17.07</td>\n      <td>88.0</td>\n      <td>100.0</td>\n      <td>6.85</td>\n    </tr>\n    <tr>\n      <th>496</th>\n      <td>qasigiannguit</td>\n      <td>66.282569</td>\n      <td>-48.212406</td>\n      <td>19.40</td>\n      <td>42.0</td>\n      <td>75.0</td>\n      <td>9.22</td>\n    </tr>\n    <tr>\n      <th>499</th>\n      <td>namatanai</td>\n      <td>4.905919</td>\n      <td>157.079683</td>\n      <td>80.69</td>\n      <td>76.0</td>\n      <td>80.0</td>\n      <td>4.45</td>\n    </tr>\n  </tbody>\n</table>\n<p>245 rows × 7 columns</p>\n</div>"
     },
     "metadata": {},
     "execution_count": 2
    }
   ],
   "source": [
    "###Get dataframe to show City Name (unduplicated): weather1_data ###\n",
    "#import dataframe weather1_data from 1st part of assignment (WeatherPy.ipynb)\n",
    "%store -r weather1_data\n",
    "#drop duplicate cities (same data)\n",
    "weather1_data=weather1_data.drop_duplicates(subset=[\"City Name\"])\n",
    "weather1_data"
   ]
  },
  {
   "source": [
    "# Plot Heatmap\n",
    "fig = gmaps.figure()\n",
    "fig\n",
    "\n",
    "# Store latitude and longitude in locations\n",
    "locations = weather1_data[[\"Latitude\", \"Longitude\"]]\n",
    "\n",
    "# Fill NaN values and convert to float\n",
    "Humidity = weather1_data[\"Latitude Humidity\"]\n",
    "\n",
    "# Create heat layer\n",
    "heat_layer = gmaps.heatmap_layer(locations, weights=Humidity, dissipating=False, max_intensity=100, point_radius=2)\n",
    "heat_layer\n",
    "\n",
    "# Add layer\n",
    "fig.add_layer(heat_layer)\n",
    "\n",
    "# Display figure\n",
    "fig"
   ],
   "cell_type": "code",
   "metadata": {},
   "execution_count": 28,
   "outputs": [
    {
     "output_type": "display_data",
     "data": {
      "text/plain": "Figure(layout=FigureLayout(height='420px'))",
      "application/vnd.jupyter.widget-view+json": {
       "version_major": 2,
       "version_minor": 0,
       "model_id": "3e4dc1d01994479bbee6f7d35bbe4fa2"
      }
     },
     "metadata": {}
    }
   ]
  },
  {
   "source": [
    "Heatmap for first hotel found within each city (with ideal conditions for travel destination) located within 5000 meters of your coordinates."
   ],
   "cell_type": "markdown",
   "metadata": {}
  },
  {
   "cell_type": "code",
   "execution_count": 44,
   "metadata": {},
   "outputs": [
    {
     "output_type": "execute_result",
     "data": {
      "text/plain": [
       "(11, 7)"
      ]
     },
     "metadata": {},
     "execution_count": 44
    }
   ],
   "source": [
    "###Cities selected based on ideal travel destination: ideal_df\n",
    "#Narrow down ideal conditions of city \n",
    "\n",
    "#Ideal temperature Range (in Farenheit)\n",
    "ideal_min_temp=70 \n",
    "ideal_max_temp=80\n",
    "#Ideal wind speed: speed less than... (in mph)\n",
    "ideal_max_speed=10\n",
    "#Ideal cloudiness: cloudiness less than... (%)\n",
    "ideal_cloudiness=25\n",
    "\n",
    "ideal_df=weather1_data[(weather1_data[\"Temperature\"]>=ideal_min_temp) & (weather1_data[\"Temperature\"]<=ideal_max_temp) & (weather1_data[\"Wind Speed\"]<=ideal_max_speed) & (weather1_data[\"Cloudiness\"]<=ideal_cloudiness)]\n",
    "ideal_df\n",
    "\n",
    "#Dataframe sorted ascending by least windy city.\n",
    "idealbylowwind_df=ideal_df.sort_values(by=\"Wind Speed\", ascending=True)\n",
    "idealbylowwind_df\n",
    "\n",
    "ideal_df.shape"
   ]
  },
  {
   "cell_type": "code",
   "execution_count": 62,
   "metadata": {},
   "outputs": [
    {
     "output_type": "stream",
     "name": "stdout",
     "text": [
      "Hotel Address error\n",
      "Hotel Address error\n",
      "Hotel Address error\n",
      "Hotel Address error\n",
      "Hotel Address error\n",
      "Hotel Address error\n",
      "Hotel Address error\n",
      "Hotel Address error\n",
      "Hotel Address error\n"
     ]
    }
   ],
   "source": [
    "##Nearest hotel nearest specified co-ordinates\n",
    "#Print: Hotel Name, Address, City Name, Country.\n",
    "\n",
    "#Create new dataframe containing the City, Latitude, Longitude, Hotel Name,and Country.\n",
    "nearby_hotel=ideal_df[[\"City Name\",\"Latitude\",\"Longitude\"]]\n",
    "nearby_hotel[\"Hotel Name\"]=\"\"\n",
    "nearby_hotel[\"Address\"]=\"\"\n",
    "nearby_hotel[\"Country\"]=\"\"\n",
    "nearby_hotel\n",
    "\n",
    "# Assign variable values for parameters\n",
    "target_search=\"hotels\"\n",
    "radius=10000\n",
    "\n",
    "#Set parameters (unchanged for each row)\n",
    "params = {\n",
    "    \"keyword\": target_search,\n",
    "    \"radius\": radius,\n",
    "    \"key\": g_key\n",
    "}\n",
    "\n",
    "# Find a hotel near the specified city (co-ordinates available already)\n",
    "for index, row in nearby_hotel.iterrows():\n",
    "    #Use latitude and longitude from df\n",
    "    lat= row[\"Latitude\"]\n",
    "    lng= row[\"Longitude\"]\n",
    "    #params dictionary to update each iteration\n",
    "    #change location each iteration while leaving original params in place\n",
    "    params[\"location\"] = f\"{lat},{lng}\"\n",
    "\n",
    "    #Use the search term: \"International Airport\" and our lat/lng\n",
    "    base_url = \"https://maps.googleapis.com/maps/api/place/nearbysearch/json\"\n",
    "\n",
    "    #make request and print url\n",
    "    name_address = requests.get(base_url, params=params)\n",
    "    \n",
    "    # # #print the name_address url, avoid doing for public github repos in order to avoid exposing key\n",
    "    # # print(name_address.url)\n",
    "\n",
    "    #convert to json\n",
    "    name_address = name_address.json()\n",
    "    # print(json.dumps(name_address, indent=4, sort_keys=True))\n",
    "\n",
    "    # Since some data may be missing we incorporate a try-except to skip any that are missing a data point.\n",
    "    # try:\n",
    "    #     nearby_hotel.loc[index, \"Hotel Name\"] = name_address[\"results\"][0][\"name\"]\n",
    "    # except (KeyError, IndexError):\n",
    "    #     print(\"Name error\")\n",
    "    try:\n",
    "        nearby_hotel.loc[index, \"Hotel Address\"] = name_address[\"results\"][0][\"vicinity\"]\n",
    "    except (KeyError, IndexError):\n",
    "        print(\"Hotel Address error\")\n",
    "    # try:\n",
    "    #     nearby_hotel.loc[index, \"Country\"] = name_address[\"results\"][0][\"rating\"]\n",
    "    # except (KeyError, IndexError):\n",
    "    #     print(\"rating error??\")\n"
   ]
  },
  {
   "cell_type": "code",
   "execution_count": null,
   "metadata": {},
   "outputs": [],
   "source": [
    "#####ADD MARKERS TO GOOGLE MAP##### EXAMPLE\n",
    "\n",
    "# # Create a list containing coordinates\n",
    "# coordinates = [\n",
    "#     (40.71, -74.00),\n",
    "#     (30.26, -97.74),\n",
    "#     (46.87, -96.78),\n",
    "#     (47.60, -122.33),\n",
    "#     (32.71, -117.16)\n",
    "# ]\n",
    "\n",
    "# # Customize the size of the figure\n",
    "# figure_layout = {\n",
    "#     'width': '400px',\n",
    "#     'height': '300px',\n",
    "#     'border': '1px solid black',\n",
    "#     'padding': '1px',\n",
    "#     'margin': '0 auto 0 auto'\n",
    "# }\n",
    "# fig = gmaps.figure(layout=figure_layout)\n",
    "\n",
    "# # Assign the marker layer to a variable\n",
    "# markers = gmaps.marker_layer(coordinates)\n",
    "# # Add the layer to the map\n",
    "# fig.add_layer(markers)\n",
    "# fig"
   ]
  }
 ]
}