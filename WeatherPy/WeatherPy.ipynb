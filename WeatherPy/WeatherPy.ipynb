{
 "metadata": {
  "language_info": {
   "codemirror_mode": {
    "name": "ipython",
    "version": 3
   },
   "file_extension": ".py",
   "mimetype": "text/x-python",
   "name": "python",
   "nbconvert_exporter": "python",
   "pygments_lexer": "ipython3",
   "version": "3.6.10-final"
  },
  "orig_nbformat": 2,
  "kernelspec": {
   "name": "python3",
   "display_name": "Python 3",
   "language": "python"
  }
 },
 "nbformat": 4,
 "nbformat_minor": 2,
 "cells": [
  {
   "source": [
    "SCATTERPLOTS\n",
    "\n",
    "Your first requirement is to create a series of scatter plots to showcase the following relationships:\n",
    "\n",
    "Temperature (F) vs. Latitude\n",
    "Humidity (%) vs. Latitude\n",
    "Cloudiness (%) vs. Latitude\n",
    "Wind Speed (mph) vs. Latitude\n",
    "\n",
    "\n",
    "To generate a random float number between any two numbers, we can use random.uniform(start,stop)"
   ],
   "cell_type": "markdown",
   "metadata": {}
  },
  {
   "cell_type": "code",
   "execution_count": 1,
   "metadata": {},
   "outputs": [],
   "source": [
    "#Dependencies\n",
    "import requests \n",
    "import json\n",
    "from pprint import pprint\n",
    "from api_keys import weather_api_key\n",
    "from citipy import citipy\n",
    "import random\n",
    "import pandas as pd"
   ]
  },
  {
   "cell_type": "code",
   "execution_count": 2,
   "metadata": {},
   "outputs": [
    {
     "output_type": "stream",
     "name": "stdout",
     "text": [
      "34.61 Farenheit\n87 % Humidity\n0 % Cloudiness\n8.05 miles/hr\n51.5085 ° latitude\n-0.1257 ° longitude\n"
     ]
    }
   ],
   "source": [
    "#####TEST (PERTH CITY) to see json info, and define variables to extract for y-axis: Temperature(F), Latitude Humidity, Cloudiness, Windspeed, x-axis: Latitude####\n",
    "\n",
    "#Request and get URL, and transform to JSON. \n",
    "#For units, use \"imperial\" as farenheit has been requested in project.\n",
    "deg=\"\\xb0\" #degree sign\n",
    "city_name=\"London\"\n",
    "units=\"imperial\"\n",
    "url=f\"http://api.openweathermap.org/data/2.5/weather?q={city_name}&appid={weather_api_key}&units={units}\"\n",
    "######Define variable \"weather\" and read the json file\n",
    "weather=requests.get(url).json()\n",
    "####Print the output of JSON formatted\n",
    "#print(json.dumps(weather, indent=4, sort_keys=True))\n",
    "\n",
    "####VARIABLES AND ITS VALUES FOR Y-AXIS###\n",
    "#if set to imperial, units as follows\n",
    "#Temp (F) \n",
    "print(weather[\"main\"][\"temp\"], \"Farenheit\")\n",
    "#Latitude Humidity\n",
    "print(weather[\"main\"][\"humidity\"], \"% Humidity\")\n",
    "#Cloudiness (%)\n",
    "print(weather[\"clouds\"][\"all\"], \"% Cloudiness\")\n",
    "#Windspeed (miles/hr)\n",
    "print(weather[\"wind\"][\"speed\"], \"miles/hr\")\n",
    "# print(\"miles/hr\")\n",
    "####VARIABLES AND ITS VALUES FOR X-AXIS###\n",
    "#latitude\n",
    "print(weather[\"coord\"][\"lat\"],deg,\"latitude\")\n",
    "###OTHER VARIABLES####\n",
    "#longitude\n",
    "print(weather[\"coord\"][\"lon\"],deg,\"longitude\")"
   ]
  },
  {
   "cell_type": "code",
   "execution_count": 9,
   "metadata": {},
   "outputs": [
    {
     "output_type": "stream",
     "name": "stdout",
     "text": [
      "[-58.48486970055926, 50.419150137727286, 22.231379758433917, 4.181532930846544, -28.523038252160532, -26.12697556878563, 35.8306001713911, -60.31798423258054, -42.4693827866256, 74.74769650597923]\n[-58.48486970055926, 50.419150137727286, 22.231379758433917, 4.181532930846544, -28.523038252160532, -26.12697556878563, 35.8306001713911, -60.31798423258054, -42.4693827866256, 74.74769650597923]\n"
     ]
    }
   ],
   "source": [
    "#base_url\n",
    "base_url=\"http://api.openweathermap.org/data/2.5/weather?\"\n",
    "\n",
    "#Variable for query url. \"imperial\":farenheit, \"metric\":celcius, \"\":kelvin. \n",
    "#Use \"imperial\" as farenheit has been requested in project.\n",
    "units=\"imperial\"\n",
    "\n",
    "#query url\n",
    "query_url=f\"{base_url}appid={weather_api_key}&units={units}&q=\"\n",
    "\n",
    "#######################\n",
    "\n",
    "# Get latitude and temperature for cities\n",
    "cities = [\"Paris\", \"London\", \"Oslo\", \"Beijing\", \"Mumbai\", \"Manila\", \"New York\", \"Seattle\", \"Dallas\", \"Taipei\"]\n",
    "\n",
    "#Set up empty lists (for filling in in the for loop). Avoid using variables with same names as in API\n",
    " # Latitude, Longitude, Temperature(F), Latitude Humidity, Cloudiness, Windspeed\n",
    "lat_list=[] #Latitude (°)\n",
    "long_list=[] #Longitude (°)\n",
    "temp_list=[] #Temperature(F)\n",
    "lat_hum_list=[] #Latitude Humidity\n",
    "cloud_list=[] #Cloudiness\n",
    "winds_list=[] #windspeed\n",
    "\n",
    "for x in range(10):\n",
    "    #Random pick of latitude between -90 and 90 deg\n",
    "    #Save latitudes into list \"lat_list\" \n",
    "    latitude=random.uniform(-90,90)\n",
    "    latitude\n",
    "    lat_list.append(latitude)\n",
    "    #Random pick of latitude between -180 and 180 deg\n",
    "    #Save latitudes into list \"lat_list\" \n",
    "    longitude=random.uniform(-180,180)\n",
    "    longitude\n",
    "    long_list.append(latitude)\n",
    "\n",
    "print(lat_list)\n",
    "print(long_list)\n",
    "\n",
    "    # longitude=random.uniform(-180,180)\n",
    "    # print(longitude)\n",
    "\n",
    "    # city = citipy.nearest_city(latitude,longitude).city_name\n",
    "    # #print(city)\n",
    "\n",
    "\n",
    "\n",
    "# # Loop through the list of cities and perform a request for data on each\n",
    "# for city in cities:\n",
    "#     response = requests.get(query_url + city).json()\n",
    "#     lat.append(response['coord']['lat'])\n",
    "#     temp.append(response['main']['temp'])\n",
    "\n",
    "\n",
    "\n",
    "\n",
    "\n"
   ]
  },
  {
   "cell_type": "code",
   "execution_count": null,
   "metadata": {},
   "outputs": [],
   "source": []
  },
  {
   "cell_type": "code",
   "execution_count": null,
   "metadata": {},
   "outputs": [],
   "source": []
  },
  {
   "cell_type": "code",
   "execution_count": 4,
   "metadata": {},
   "outputs": [],
   "source": [
    "#First, define variable in the URL being requested\n",
    "# city_name=input(\"What city weather forecast do you want to see?\")\n",
    "# # weather_api_key=\"930a0ebb6693ce57a3b56e75a9b3893c\"\n",
    "# #Request and get URL, and transform to JSON.\n",
    "# response=requests.get(f\"http://api.openweathermap.org/data/2.5/weather?q={city_name}&appid={weather_api_key}&units=imperial\").json()\n",
    "# #Print the output of JSON formatted\n",
    "# print(json.dumps(response, indent=4, sort_keys=True))\n"
   ]
  },
  {
   "cell_type": "code",
   "execution_count": 5,
   "metadata": {},
   "outputs": [
    {
     "output_type": "stream",
     "name": "stdout",
     "text": [
      "perth\n"
     ]
    }
   ],
   "source": [
    "#citipy.nearest_city(lat_lng[0], lat_lng[1]).city_name\n",
    "#latitudes(-90 to 90) and longitudes(-180 to 180) \n",
    "city = citipy.nearest_city(-31, 115).city_name\n",
    "print(city)"
   ]
  },
  {
   "cell_type": "code",
   "execution_count": 6,
   "metadata": {},
   "outputs": [
    {
     "output_type": "stream",
     "name": "stdout",
     "text": [
      "10.139309691930762\n-71.9160180084564\n22.649670720271246\n20.03788128497527\n-89.50842375241132\n-82.51366211184228\n24.612315355991285\n1.9557146420279707\n45.60578544400627\n81.35865843097056\n"
     ]
    }
   ],
   "source": [
    "#Make lists\n",
    "latitude=[]\n",
    "longitude=[]\n",
    "#Loop 10 times\n",
    "for x in range(10):\n",
    "    latitude=random.uniform(-90,90)\n",
    "    print(latitude)\n",
    "    # latitude=list(map(float,latitude))\n",
    "    # latitude.append(latitude)\n",
    "    # print(lat_value_list)\n",
    "    # longitude=random.uniform(-180,180)\n",
    "    # #print(longitude)\n",
    "\n",
    "    # city = citipy.nearest_city(latitude,longitude).city_name\n",
    "    # #print(city)\n",
    "\n",
    "    # latitude\n",
    "    # # #Put columns into dataframe; latitude, longitude, city\n",
    "    # # weather_df=pd.DataFrame({'latitude' : [latitude],\n",
    "    # #                             'longitude' : [longitude],\n",
    "    # #                             'city' : [city] }, \n",
    "    # #                             columns=['latitude','longitude', 'city'])\n",
    "    # # weather_df\n",
    "\n",
    "#Append List\n",
    "#latitude.append(latitude)"
   ]
  },
  {
   "cell_type": "code",
   "execution_count": null,
   "metadata": {},
   "outputs": [],
   "source": []
  }
 ]
}