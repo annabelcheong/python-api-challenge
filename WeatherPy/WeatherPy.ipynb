{
 "metadata": {
  "language_info": {
   "codemirror_mode": {
    "name": "ipython",
    "version": 3
   },
   "file_extension": ".py",
   "mimetype": "text/x-python",
   "name": "python",
   "nbconvert_exporter": "python",
   "pygments_lexer": "ipython3",
   "version": "3.6.10-final"
  },
  "orig_nbformat": 2,
  "kernelspec": {
   "name": "python3",
   "display_name": "Python 3",
   "language": "python"
  }
 },
 "nbformat": 4,
 "nbformat_minor": 2,
 "cells": [
  {
   "source": [
    "SCATTERPLOTS\n",
    "\n",
    "Your first requirement is to create a series of scatter plots to showcase the following relationships:\n",
    "\n",
    "Temperature (F) vs. Latitude\n",
    "Humidity (%) vs. Latitude\n",
    "Cloudiness (%) vs. Latitude\n",
    "Wind Speed (mph) vs. Latitude\n",
    "\n",
    "\n",
    "To generate a random float number between any two numbers, we can use random.uniform(start,stop)"
   ],
   "cell_type": "markdown",
   "metadata": {}
  },
  {
   "cell_type": "code",
   "execution_count": 24,
   "metadata": {},
   "outputs": [],
   "source": [
    "#Dependencies\n",
    "import requests \n",
    "import json\n",
    "from pprint import pprint\n",
    "from api_keys import weather_api_key\n",
    "from citipy import citipy\n",
    "import random\n",
    "import pandas as pd"
   ]
  },
  {
   "cell_type": "code",
   "execution_count": 25,
   "metadata": {},
   "outputs": [
    {
     "output_type": "stream",
     "name": "stdout",
     "text": [
      "{\n    \"base\": \"stations\",\n    \"clouds\": {\n        \"all\": 0\n    },\n    \"cod\": 200,\n    \"coord\": {\n        \"lat\": -31.9333,\n        \"lon\": 115.8333\n    },\n    \"dt\": 1611218465,\n    \"id\": 2063523,\n    \"main\": {\n        \"feels_like\": 300.64,\n        \"humidity\": 35,\n        \"pressure\": 1007,\n        \"temp\": 304.98,\n        \"temp_max\": 306.15,\n        \"temp_min\": 303.15\n    },\n    \"name\": \"Perth\",\n    \"sys\": {\n        \"country\": \"AU\",\n        \"id\": 9586,\n        \"sunrise\": 1611178273,\n        \"sunset\": 1611228255,\n        \"type\": 1\n    },\n    \"timezone\": 28800,\n    \"visibility\": 10000,\n    \"weather\": [\n        {\n            \"description\": \"clear sky\",\n            \"icon\": \"01d\",\n            \"id\": 800,\n            \"main\": \"Clear\"\n        }\n    ],\n    \"wind\": {\n        \"deg\": 240,\n        \"speed\": 8.23\n    }\n}\n"
     ]
    }
   ],
   "source": [
    "#First, define variable in the URL being requested\n",
    "city_name=input(\"What city weather forecast do you want to see?\")\n",
    "# weather_api_key=\"930a0ebb6693ce57a3b56e75a9b3893c\"\n",
    "#Request and get URL, and transform to JSON.\n",
    "response=requests.get(f\"http://api.openweathermap.org/data/2.5/weather?q={city_name}&appid={weather_api_key}\").json()\n",
    "#Print the output of JSON formatted\n",
    "print(json.dumps(response, indent=4, sort_keys=True))\n"
   ]
  },
  {
   "cell_type": "code",
   "execution_count": 26,
   "metadata": {},
   "outputs": [
    {
     "output_type": "stream",
     "name": "stdout",
     "text": [
      "perth\n"
     ]
    }
   ],
   "source": [
    "#citipy.nearest_city(lat_lng[0], lat_lng[1]).city_name\n",
    "#latitudes(-90 to 90) and longitudes(-180 to 180) \n",
    "city = citipy.nearest_city(-31, 115).city_name\n",
    "print(city)"
   ]
  },
  {
   "cell_type": "code",
   "execution_count": 38,
   "metadata": {},
   "outputs": [
    {
     "output_type": "stream",
     "name": "stdout",
     "text": [
      "28.837739422701176\n"
     ]
    },
    {
     "output_type": "error",
     "ename": "TypeError",
     "evalue": "'float' object is not iterable",
     "traceback": [
      "\u001b[0;31m---------------------------------------------------------------------------\u001b[0m",
      "\u001b[0;31mTypeError\u001b[0m                                 Traceback (most recent call last)",
      "\u001b[0;32m<ipython-input-38-7d13768a899d>\u001b[0m in \u001b[0;36m<module>\u001b[0;34m\u001b[0m\n\u001b[1;32m      6\u001b[0m     \u001b[0mlatitude\u001b[0m\u001b[0;34m=\u001b[0m\u001b[0mrandom\u001b[0m\u001b[0;34m.\u001b[0m\u001b[0muniform\u001b[0m\u001b[0;34m(\u001b[0m\u001b[0;34m-\u001b[0m\u001b[0;36m90\u001b[0m\u001b[0;34m,\u001b[0m\u001b[0;36m90\u001b[0m\u001b[0;34m)\u001b[0m\u001b[0;34m\u001b[0m\u001b[0;34m\u001b[0m\u001b[0m\n\u001b[1;32m      7\u001b[0m     \u001b[0mprint\u001b[0m\u001b[0;34m(\u001b[0m\u001b[0mlatitude\u001b[0m\u001b[0;34m)\u001b[0m\u001b[0;34m\u001b[0m\u001b[0;34m\u001b[0m\u001b[0m\n\u001b[0;32m----> 8\u001b[0;31m     \u001b[0mlatitude\u001b[0m\u001b[0;34m=\u001b[0m\u001b[0mlist\u001b[0m\u001b[0;34m(\u001b[0m\u001b[0mmap\u001b[0m\u001b[0;34m(\u001b[0m\u001b[0mint\u001b[0m\u001b[0;34m,\u001b[0m\u001b[0mlatitude\u001b[0m\u001b[0;34m)\u001b[0m\u001b[0;34m)\u001b[0m\u001b[0;34m\u001b[0m\u001b[0;34m\u001b[0m\u001b[0m\n\u001b[0m\u001b[1;32m      9\u001b[0m     \u001b[0mlatitude\u001b[0m\u001b[0;34m.\u001b[0m\u001b[0mappend\u001b[0m\u001b[0;34m(\u001b[0m\u001b[0mlatitude\u001b[0m\u001b[0;34m)\u001b[0m\u001b[0;34m\u001b[0m\u001b[0;34m\u001b[0m\u001b[0m\n\u001b[1;32m     10\u001b[0m     \u001b[0mprint\u001b[0m\u001b[0;34m(\u001b[0m\u001b[0mlat_value_list\u001b[0m\u001b[0;34m)\u001b[0m\u001b[0;34m\u001b[0m\u001b[0;34m\u001b[0m\u001b[0m\n",
      "\u001b[0;31mTypeError\u001b[0m: 'float' object is not iterable"
     ]
    }
   ],
   "source": [
    "#Make lists\n",
    "latitude=[]\n",
    "longitude=[]\n",
    "#Loop 10 times\n",
    "for x in range(10):\n",
    "    latitude=random.uniform(-90,90)\n",
    "    print(latitude)\n",
    "    latitude=list(map(float,latitude))\n",
    "    latitude.append(latitude)\n",
    "    print(lat_value_list)\n",
    "    # longitude=random.uniform(-180,180)\n",
    "    # #print(longitude)\n",
    "\n",
    "    # city = citipy.nearest_city(latitude,longitude).city_name\n",
    "    # #print(city)\n",
    "\n",
    "    # latitude\n",
    "    # # #Put columns into dataframe; latitude, longitude, city\n",
    "    # # weather_df=pd.DataFrame({'latitude' : [latitude],\n",
    "    # #                             'longitude' : [longitude],\n",
    "    # #                             'city' : [city] }, \n",
    "    # #                             columns=['latitude','longitude', 'city'])\n",
    "    # # weather_df\n",
    "\n",
    "#Append List\n",
    "#latitude.append(latitude)"
   ]
  },
  {
   "cell_type": "code",
   "execution_count": null,
   "metadata": {},
   "outputs": [],
   "source": []
  }
 ]
}