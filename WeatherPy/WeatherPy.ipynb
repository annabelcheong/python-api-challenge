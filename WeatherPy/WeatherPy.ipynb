{
 "metadata": {
  "language_info": {
   "codemirror_mode": {
    "name": "ipython",
    "version": 3
   },
   "file_extension": ".py",
   "mimetype": "text/x-python",
   "name": "python",
   "nbconvert_exporter": "python",
   "pygments_lexer": "ipython3",
   "version": "3.6.10-final"
  },
  "orig_nbformat": 2,
  "kernelspec": {
   "name": "python3",
   "display_name": "Python 3",
   "language": "python"
  }
 },
 "nbformat": 4,
 "nbformat_minor": 2,
 "cells": [
  {
   "source": [
    "SCATTERPLOTS\n",
    "\n",
    "Your first requirement is to create a series of scatter plots to showcase the following relationships:\n",
    "\n",
    "Temperature (F) vs. Latitude\n",
    "Humidity (%) vs. Latitude\n",
    "Cloudiness (%) vs. Latitude\n",
    "Wind Speed (mph) vs. Latitude\n",
    "\n",
    "\n",
    "To generate a random float number between any two numbers, we can use random.uniform(start,stop)"
   ],
   "cell_type": "markdown",
   "metadata": {}
  },
  {
   "cell_type": "code",
   "execution_count": 17,
   "metadata": {},
   "outputs": [],
   "source": [
    "#Dependencies\n",
    "import requests \n",
    "import json\n",
    "from pprint import pprint\n",
    "from api_keys import weather_api_key\n",
    "from citipy import citipy\n",
    "import random\n",
    "import pandas as pd"
   ]
  },
  {
   "cell_type": "code",
   "execution_count": 21,
   "metadata": {},
   "outputs": [
    {
     "output_type": "stream",
     "name": "stdout",
     "text": [
      "82.02 Farenheit\n51 % Humidity\n0 % Cloudiness\n20.71 miles/hr\n-33.8679 ° latitude\n151.2073 ° longitude\n"
     ]
    }
   ],
   "source": [
    "#####TEST (PERTH CITY) to see json info, and define variables to extract for y-axis: Temperature(F), Latitude Humidity, Cloudiness, Windspeed, x-axis: Latitude####\n",
    "\n",
    "#Request and get URL, and transform to JSON. \n",
    "#For units, use \"imperial\" as farenheit has been requested in project.\n",
    "deg=\"\\xb0\" #degree sign\n",
    "city=\"Sydney\"\n",
    "units=\"imperial\"\n",
    "url=f\"http://api.openweathermap.org/data/2.5/weather?q={city}&appid={weather_api_key}&units={units}\"\n",
    "######Define variable \"weather\" and read the json file\n",
    "weather=requests.get(url).json()\n",
    "####Print the output of JSON formatted\n",
    "#print(json.dumps(weather, indent=4, sort_keys=True))\n",
    "\n",
    "####VARIABLES AND ITS VALUES FOR Y-AXIS###\n",
    "#if set to imperial, units as follows\n",
    "#Temp (F) \n",
    "print(weather[\"main\"][\"temp\"], \"Farenheit\")\n",
    "#Latitude Humidity\n",
    "print(weather[\"main\"][\"humidity\"], \"% Humidity\")\n",
    "#Cloudiness (%)\n",
    "print(weather[\"clouds\"][\"all\"], \"% Cloudiness\")\n",
    "#Windspeed (miles/hr)\n",
    "print(weather[\"wind\"][\"speed\"], \"miles/hr\")\n",
    "# print(\"miles/hr\")\n",
    "####VARIABLES AND ITS VALUES FOR X-AXIS###\n",
    "#latitude\n",
    "print(weather[\"coord\"][\"lat\"],deg,\"latitude\")\n",
    "###OTHER VARIABLES####\n",
    "#longitude\n",
    "print(weather[\"coord\"][\"lon\"],deg,\"longitude\")"
   ]
  },
  {
   "cell_type": "code",
   "execution_count": 27,
   "metadata": {},
   "outputs": [
    {
     "output_type": "stream",
     "name": "stdout",
     "text": [
      "hermanus\n",
      "manzanillo\n",
      "ushuaia\n",
      "yellowknife\n",
      "kavaratti\n",
      "rio gallegos\n",
      "punta arenas\n",
      "santo domingo\n",
      "castro\n",
      "kodiak\n",
      "[-57.29087796232564, 14.727547862288219, -74.27174930218118, 84.65698234965714, 12.13994567131489, -50.83070094054445, -57.77477006544692, 18.317299758685294, -53.46791438488948, 55.416503980663066]\n",
      "[8.16525682888232, -106.51865688961632, -62.13714985722454, -101.17259987253478, 67.50468716581926, -65.16661192825329, -86.3053184593047, -69.79661490154669, -96.76738392529457, -153.21579218518656]\n",
      "['hermanus', 'manzanillo', 'ushuaia', 'yellowknife', 'kavaratti', 'rio gallegos', 'punta arenas', 'santo domingo', 'castro', 'kodiak']\n",
      "[82, 68.61, 42.8, -29.09, 82.09, 46.4, 42.4, 73.09, 62.33, 41]\n",
      "[60, 93, 81, 75, 68, 71, 81, 94, 97, 93]\n",
      "[3, 8, 20, 1, 2, 0, 0, 40, 100, 90]\n",
      "[3, 10.56, 9.22, 3.44, 8.21, 5.75, 19.57, 4.61, 7.7, 9.22]\n"
     ]
    },
    {
     "output_type": "execute_result",
     "data": {
      "text/plain": [
       "       City Name   Latitude   Longitude  Temperature  Latitude Humidity  \\\n",
       "0       hermanus -57.290878    8.165257        82.00                 60   \n",
       "1     manzanillo  14.727548 -106.518657        68.61                 93   \n",
       "2        ushuaia -74.271749  -62.137150        42.80                 81   \n",
       "3    yellowknife  84.656982 -101.172600       -29.09                 75   \n",
       "4      kavaratti  12.139946   67.504687        82.09                 68   \n",
       "5   rio gallegos -50.830701  -65.166612        46.40                 71   \n",
       "6   punta arenas -57.774770  -86.305318        42.40                 81   \n",
       "7  santo domingo  18.317300  -69.796615        73.09                 94   \n",
       "8         castro -53.467914  -96.767384        62.33                 97   \n",
       "9         kodiak  55.416504 -153.215792        41.00                 93   \n",
       "\n",
       "   Cloudiness  Wind Speed  \n",
       "0           3        3.00  \n",
       "1           8       10.56  \n",
       "2          20        9.22  \n",
       "3           1        3.44  \n",
       "4           2        8.21  \n",
       "5           0        5.75  \n",
       "6           0       19.57  \n",
       "7          40        4.61  \n",
       "8         100        7.70  \n",
       "9          90        9.22  "
      ],
      "text/html": "<div>\n<style scoped>\n    .dataframe tbody tr th:only-of-type {\n        vertical-align: middle;\n    }\n\n    .dataframe tbody tr th {\n        vertical-align: top;\n    }\n\n    .dataframe thead th {\n        text-align: right;\n    }\n</style>\n<table border=\"1\" class=\"dataframe\">\n  <thead>\n    <tr style=\"text-align: right;\">\n      <th></th>\n      <th>City Name</th>\n      <th>Latitude</th>\n      <th>Longitude</th>\n      <th>Temperature</th>\n      <th>Latitude Humidity</th>\n      <th>Cloudiness</th>\n      <th>Wind Speed</th>\n    </tr>\n  </thead>\n  <tbody>\n    <tr>\n      <th>0</th>\n      <td>hermanus</td>\n      <td>-57.290878</td>\n      <td>8.165257</td>\n      <td>82.00</td>\n      <td>60</td>\n      <td>3</td>\n      <td>3.00</td>\n    </tr>\n    <tr>\n      <th>1</th>\n      <td>manzanillo</td>\n      <td>14.727548</td>\n      <td>-106.518657</td>\n      <td>68.61</td>\n      <td>93</td>\n      <td>8</td>\n      <td>10.56</td>\n    </tr>\n    <tr>\n      <th>2</th>\n      <td>ushuaia</td>\n      <td>-74.271749</td>\n      <td>-62.137150</td>\n      <td>42.80</td>\n      <td>81</td>\n      <td>20</td>\n      <td>9.22</td>\n    </tr>\n    <tr>\n      <th>3</th>\n      <td>yellowknife</td>\n      <td>84.656982</td>\n      <td>-101.172600</td>\n      <td>-29.09</td>\n      <td>75</td>\n      <td>1</td>\n      <td>3.44</td>\n    </tr>\n    <tr>\n      <th>4</th>\n      <td>kavaratti</td>\n      <td>12.139946</td>\n      <td>67.504687</td>\n      <td>82.09</td>\n      <td>68</td>\n      <td>2</td>\n      <td>8.21</td>\n    </tr>\n    <tr>\n      <th>5</th>\n      <td>rio gallegos</td>\n      <td>-50.830701</td>\n      <td>-65.166612</td>\n      <td>46.40</td>\n      <td>71</td>\n      <td>0</td>\n      <td>5.75</td>\n    </tr>\n    <tr>\n      <th>6</th>\n      <td>punta arenas</td>\n      <td>-57.774770</td>\n      <td>-86.305318</td>\n      <td>42.40</td>\n      <td>81</td>\n      <td>0</td>\n      <td>19.57</td>\n    </tr>\n    <tr>\n      <th>7</th>\n      <td>santo domingo</td>\n      <td>18.317300</td>\n      <td>-69.796615</td>\n      <td>73.09</td>\n      <td>94</td>\n      <td>40</td>\n      <td>4.61</td>\n    </tr>\n    <tr>\n      <th>8</th>\n      <td>castro</td>\n      <td>-53.467914</td>\n      <td>-96.767384</td>\n      <td>62.33</td>\n      <td>97</td>\n      <td>100</td>\n      <td>7.70</td>\n    </tr>\n    <tr>\n      <th>9</th>\n      <td>kodiak</td>\n      <td>55.416504</td>\n      <td>-153.215792</td>\n      <td>41.00</td>\n      <td>93</td>\n      <td>90</td>\n      <td>9.22</td>\n    </tr>\n  </tbody>\n</table>\n</div>"
     },
     "metadata": {},
     "execution_count": 27
    }
   ],
   "source": [
    "########JSON DATA #########\n",
    "#base_url\n",
    "base_url=\"http://api.openweathermap.org/data/2.5/weather?\"\n",
    "\n",
    "#######################\n",
    "\n",
    "# # Get latitude and temperature for cities\n",
    "# cities = [\"Paris\", \"London\", \"Oslo\", \"Beijing\", \"Mumbai\", \"Manila\", \"New York\", \"Seattle\", \"Dallas\", \"Taipei\"]\n",
    "\n",
    "#Set up empty lists (for filling in in the for loop). Avoid using variables with same names as in API\n",
    " # Latitude, Longitude, Temperature(F), Latitude Humidity, Cloudiness, Windspeed\n",
    "lat_list=[] #Latitude (°)\n",
    "long_list=[] #Longitude (°)\n",
    "city_list=[] #city name\n",
    "temp_list=[] #Temperature(F)\n",
    "lat_hum_list=[] #Latitude Humidity\n",
    "cloud_list=[] #Cloudiness\n",
    "winds_list=[] #windspeed\n",
    "\n",
    "for x in range(10):\n",
    "    #Random pick of latitude between -90 and 90 deg\n",
    "    #Save latitudes into list \"lat_list\" \n",
    "    latitude=random.uniform(-90,90)\n",
    "    lat_list.append(latitude)\n",
    "    #Random pick of latitude between -180 and 180 deg\n",
    "    #Save latitudes into list \"lat_list\" \n",
    "    longitude=random.uniform(-180,180)\n",
    "    long_list.append(longitude)\n",
    "    #Find the nearest city based on the random latitude and longitude variable\n",
    "    city=citipy.nearest_city(latitude, longitude).city_name\n",
    "    city_list.append(city)\n",
    "\n",
    "    ####FOR THE CITY (in each loop), find variable values via JSON Data\n",
    "    #Variable for query url. \"imperial\":farenheit, \"metric\":celcius, \"\":kelvin. \n",
    "    #Use \"imperial\" as farenheit has been requested in project.\n",
    "    units=\"imperial\"\n",
    "    print(city)\n",
    "    #query url\n",
    "    query_url=f\"{base_url}appid={weather_api_key}&units={units}&q={city}\"\n",
    "    ######Define variable \"weather\" and read the json file\n",
    "    weather=requests.get(query_url).json()\n",
    "    #Find temperature(F)\n",
    "    temperature=weather[\"main\"][\"temp\"]\n",
    "    temp_list.append(temperature)\n",
    "    #Find latitude humidity (%)\n",
    "    lat_hum=weather[\"main\"][\"humidity\"]\n",
    "    lat_hum_list.append(lat_hum)\n",
    "    #Cloudiness (%)\n",
    "    cloud=weather[\"clouds\"][\"all\"]\n",
    "    cloud_list.append(cloud)\n",
    "    #Windspeed (miles/hr)\n",
    "    winds=weather[\"wind\"][\"speed\"]\n",
    "    winds_list.append(winds)\n",
    "\n",
    "\n",
    "    # #Request and get URL, and transform to JSON. \n",
    "    # #For units, use \"imperial\" as farenheit has been requested in project.\n",
    "    # deg=\"\\xb0\" #degree sign\n",
    "    # city=\"London\"\n",
    "    # units=\"imperial\"\n",
    "    # url=f\"http://api.openweathermap.org/data/2.5/weather?q={city}&appid={weather_api_key}&units={units}\"\n",
    "    # ######Define variable \"weather\" and read the json file\n",
    "    # weather=requests.get(url).json()\n",
    "\n",
    "print(lat_list)\n",
    "print(long_list)\n",
    "print(city_list)\n",
    "print(temp_list)\n",
    "print(lat_hum_list)\n",
    "print(cloud_list)\n",
    "print(winds_list)\n",
    "\n",
    "#Create a dataframe from the lists created \n",
    "weather_dict={\n",
    "    \"City Name\":city_list, \n",
    "    \"Latitude\":lat_list, \n",
    "    \"Longitude\":long_list,\n",
    "    \"Temperature\": temp_list,\n",
    "    \"Latitude Humidity\": lat_hum_list,\n",
    "    \"Cloudiness\": cloud_list,\n",
    "    \"Wind Speed\": winds_list\n",
    "    }\n",
    "\n",
    "weather_data = pd.DataFrame(weather_dict)\n",
    "weather_data"
   ]
  },
  {
   "source": [
    "Your second requirement is to run linear regression on each relationship, only this time separating them into Northern Hemisphere (greater than or equal to 0 degrees latitude) and Southern Hemisphere (less than 0 degrees latitude):\n",
    "\n",
    "Northern Hemisphere - Temperature (F) vs. Latitude\n",
    "Southern Hemisphere - Temperature (F) vs. Latitude\n",
    "Northern Hemisphere - Humidity (%) vs. Latitude\n",
    "Southern Hemisphere - Humidity (%) vs. Latitude\n",
    "Northern Hemisphere - Cloudiness (%) vs. Latitude\n",
    "Southern Hemisphere - Cloudiness (%) vs. Latitude\n",
    "Northern Hemisphere - Wind Speed (mph) vs. Latitude\n",
    "Southern Hemisphere - Wind Speed (mph) vs. Latitude\n",
    "\n",
    "#Create dataframe for northern hemisphere cities using boolean, test latitude > 0 degrees\n",
    "#Create dataframe for northern hemisphere cities using boolean, test latitude < 0 degrees\n",
    "\n",
    "#Plot a scatter graph and do the linear regression (line of best fit and Pearson's r value)"
   ],
   "cell_type": "markdown",
   "metadata": {}
  },
  {
   "cell_type": "code",
   "execution_count": 30,
   "metadata": {},
   "outputs": [
    {
     "output_type": "execute_result",
     "data": {
      "text/plain": [
       "       City Name   Latitude   Longitude  Temperature  Latitude Humidity  \\\n",
       "1     manzanillo  14.727548 -106.518657        68.61                 93   \n",
       "3    yellowknife  84.656982 -101.172600       -29.09                 75   \n",
       "4      kavaratti  12.139946   67.504687        82.09                 68   \n",
       "7  santo domingo  18.317300  -69.796615        73.09                 94   \n",
       "9         kodiak  55.416504 -153.215792        41.00                 93   \n",
       "\n",
       "   Cloudiness  Wind Speed  \n",
       "1           8       10.56  \n",
       "3           1        3.44  \n",
       "4           2        8.21  \n",
       "7          40        4.61  \n",
       "9          90        9.22  "
      ],
      "text/html": "<div>\n<style scoped>\n    .dataframe tbody tr th:only-of-type {\n        vertical-align: middle;\n    }\n\n    .dataframe tbody tr th {\n        vertical-align: top;\n    }\n\n    .dataframe thead th {\n        text-align: right;\n    }\n</style>\n<table border=\"1\" class=\"dataframe\">\n  <thead>\n    <tr style=\"text-align: right;\">\n      <th></th>\n      <th>City Name</th>\n      <th>Latitude</th>\n      <th>Longitude</th>\n      <th>Temperature</th>\n      <th>Latitude Humidity</th>\n      <th>Cloudiness</th>\n      <th>Wind Speed</th>\n    </tr>\n  </thead>\n  <tbody>\n    <tr>\n      <th>1</th>\n      <td>manzanillo</td>\n      <td>14.727548</td>\n      <td>-106.518657</td>\n      <td>68.61</td>\n      <td>93</td>\n      <td>8</td>\n      <td>10.56</td>\n    </tr>\n    <tr>\n      <th>3</th>\n      <td>yellowknife</td>\n      <td>84.656982</td>\n      <td>-101.172600</td>\n      <td>-29.09</td>\n      <td>75</td>\n      <td>1</td>\n      <td>3.44</td>\n    </tr>\n    <tr>\n      <th>4</th>\n      <td>kavaratti</td>\n      <td>12.139946</td>\n      <td>67.504687</td>\n      <td>82.09</td>\n      <td>68</td>\n      <td>2</td>\n      <td>8.21</td>\n    </tr>\n    <tr>\n      <th>7</th>\n      <td>santo domingo</td>\n      <td>18.317300</td>\n      <td>-69.796615</td>\n      <td>73.09</td>\n      <td>94</td>\n      <td>40</td>\n      <td>4.61</td>\n    </tr>\n    <tr>\n      <th>9</th>\n      <td>kodiak</td>\n      <td>55.416504</td>\n      <td>-153.215792</td>\n      <td>41.00</td>\n      <td>93</td>\n      <td>90</td>\n      <td>9.22</td>\n    </tr>\n  </tbody>\n</table>\n</div>"
     },
     "metadata": {},
     "execution_count": 30
    }
   ],
   "source": [
    "#Create dataframe from main dataframe \"weather_data\" and filter for only northern hemisphere city data (Latitude>0 degrees)\n",
    "north_df=weather_data[weather_data[\"Latitude\"]>0]\n",
    "north_df"
   ]
  },
  {
   "cell_type": "code",
   "execution_count": 32,
   "metadata": {},
   "outputs": [
    {
     "output_type": "execute_result",
     "data": {
      "text/plain": [
       "      City Name   Latitude  Longitude  Temperature  Latitude Humidity  \\\n",
       "0      hermanus -57.290878   8.165257        82.00                 60   \n",
       "2       ushuaia -74.271749 -62.137150        42.80                 81   \n",
       "5  rio gallegos -50.830701 -65.166612        46.40                 71   \n",
       "6  punta arenas -57.774770 -86.305318        42.40                 81   \n",
       "8        castro -53.467914 -96.767384        62.33                 97   \n",
       "\n",
       "   Cloudiness  Wind Speed  \n",
       "0           3        3.00  \n",
       "2          20        9.22  \n",
       "5           0        5.75  \n",
       "6           0       19.57  \n",
       "8         100        7.70  "
      ],
      "text/html": "<div>\n<style scoped>\n    .dataframe tbody tr th:only-of-type {\n        vertical-align: middle;\n    }\n\n    .dataframe tbody tr th {\n        vertical-align: top;\n    }\n\n    .dataframe thead th {\n        text-align: right;\n    }\n</style>\n<table border=\"1\" class=\"dataframe\">\n  <thead>\n    <tr style=\"text-align: right;\">\n      <th></th>\n      <th>City Name</th>\n      <th>Latitude</th>\n      <th>Longitude</th>\n      <th>Temperature</th>\n      <th>Latitude Humidity</th>\n      <th>Cloudiness</th>\n      <th>Wind Speed</th>\n    </tr>\n  </thead>\n  <tbody>\n    <tr>\n      <th>0</th>\n      <td>hermanus</td>\n      <td>-57.290878</td>\n      <td>8.165257</td>\n      <td>82.00</td>\n      <td>60</td>\n      <td>3</td>\n      <td>3.00</td>\n    </tr>\n    <tr>\n      <th>2</th>\n      <td>ushuaia</td>\n      <td>-74.271749</td>\n      <td>-62.137150</td>\n      <td>42.80</td>\n      <td>81</td>\n      <td>20</td>\n      <td>9.22</td>\n    </tr>\n    <tr>\n      <th>5</th>\n      <td>rio gallegos</td>\n      <td>-50.830701</td>\n      <td>-65.166612</td>\n      <td>46.40</td>\n      <td>71</td>\n      <td>0</td>\n      <td>5.75</td>\n    </tr>\n    <tr>\n      <th>6</th>\n      <td>punta arenas</td>\n      <td>-57.774770</td>\n      <td>-86.305318</td>\n      <td>42.40</td>\n      <td>81</td>\n      <td>0</td>\n      <td>19.57</td>\n    </tr>\n    <tr>\n      <th>8</th>\n      <td>castro</td>\n      <td>-53.467914</td>\n      <td>-96.767384</td>\n      <td>62.33</td>\n      <td>97</td>\n      <td>100</td>\n      <td>7.70</td>\n    </tr>\n  </tbody>\n</table>\n</div>"
     },
     "metadata": {},
     "execution_count": 32
    }
   ],
   "source": [
    "#Create dataframe from main dataframe \"weather_data\" and filter for only southern hemisphere city data (Latitude<0 degrees)\n",
    "south_df=weather_data[weather_data[\"Latitude\"]<0]\n",
    "south_df"
   ]
  },
  {
   "cell_type": "code",
   "execution_count": null,
   "metadata": {},
   "outputs": [],
   "source": []
  }
 ]
}