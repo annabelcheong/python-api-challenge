{
 "metadata": {
  "language_info": {
   "codemirror_mode": {
    "name": "ipython",
    "version": 3
   },
   "file_extension": ".py",
   "mimetype": "text/x-python",
   "name": "python",
   "nbconvert_exporter": "python",
   "pygments_lexer": "ipython3",
   "version": "3.6.10-final"
  },
  "orig_nbformat": 2,
  "kernelspec": {
   "name": "python3",
   "display_name": "Python 3",
   "language": "python"
  }
 },
 "nbformat": 4,
 "nbformat_minor": 2,
 "cells": [
  {
   "source": [
    "SCATTERPLOTS\n",
    "\n",
    "Your first requirement is to create a series of scatter plots to showcase the following relationships:\n",
    "\n",
    "Temperature (F) vs. Latitude\n",
    "Humidity (%) vs. Latitude\n",
    "Cloudiness (%) vs. Latitude\n",
    "Wind Speed (mph) vs. Latitude\n",
    "\n",
    "\n",
    "To generate a random float number between any two numbers, we can use random.uniform(start,stop)"
   ],
   "cell_type": "markdown",
   "metadata": {}
  },
  {
   "cell_type": "code",
   "execution_count": 17,
   "metadata": {},
   "outputs": [],
   "source": [
    "#Dependencies\n",
    "import requests \n",
    "import json\n",
    "from pprint import pprint\n",
    "from api_keys import weather_api_key\n",
    "from citipy import citipy\n",
    "import random\n",
    "import pandas as pd"
   ]
  },
  {
   "cell_type": "code",
   "execution_count": 21,
   "metadata": {},
   "outputs": [
    {
     "output_type": "stream",
     "name": "stdout",
     "text": [
      "82.02 Farenheit\n51 % Humidity\n0 % Cloudiness\n20.71 miles/hr\n-33.8679 ° latitude\n151.2073 ° longitude\n"
     ]
    }
   ],
   "source": [
    "#####TEST (PERTH CITY) to see json info, and define variables to extract for y-axis: Temperature(F), Latitude Humidity, Cloudiness, Windspeed, x-axis: Latitude####\n",
    "\n",
    "#Request and get URL, and transform to JSON. \n",
    "#For units, use \"imperial\" as farenheit has been requested in project.\n",
    "deg=\"\\xb0\" #degree sign\n",
    "city=\"Sydney\"\n",
    "units=\"imperial\"\n",
    "url=f\"http://api.openweathermap.org/data/2.5/weather?q={city}&appid={weather_api_key}&units={units}\"\n",
    "######Define variable \"weather\" and read the json file\n",
    "weather=requests.get(url).json()\n",
    "####Print the output of JSON formatted\n",
    "#print(json.dumps(weather, indent=4, sort_keys=True))\n",
    "\n",
    "####VARIABLES AND ITS VALUES FOR Y-AXIS###\n",
    "#if set to imperial, units as follows\n",
    "#Temp (F) \n",
    "print(weather[\"main\"][\"temp\"], \"Farenheit\")\n",
    "#Latitude Humidity\n",
    "print(weather[\"main\"][\"humidity\"], \"% Humidity\")\n",
    "#Cloudiness (%)\n",
    "print(weather[\"clouds\"][\"all\"], \"% Cloudiness\")\n",
    "#Windspeed (miles/hr)\n",
    "print(weather[\"wind\"][\"speed\"], \"miles/hr\")\n",
    "# print(\"miles/hr\")\n",
    "####VARIABLES AND ITS VALUES FOR X-AXIS###\n",
    "#latitude\n",
    "print(weather[\"coord\"][\"lat\"],deg,\"latitude\")\n",
    "###OTHER VARIABLES####\n",
    "#longitude\n",
    "print(weather[\"coord\"][\"lon\"],deg,\"longitude\")"
   ]
  },
  {
   "cell_type": "code",
   "execution_count": 26,
   "metadata": {},
   "outputs": [
    {
     "output_type": "stream",
     "name": "stdout",
     "text": [
      "nanortalik\n",
      "tame\n",
      "[59.113474158038514, 6.279171864073902]\n",
      "[-39.39150723397097, -71.53350676677942]\n",
      "['nanortalik', 'tame']\n",
      "[22.5, 73.69]\n",
      "[87, 68]\n",
      "[0, 78]\n",
      "[4.47, 4.47]\n"
     ]
    },
    {
     "output_type": "execute_result",
     "data": {
      "text/plain": [
       "    City Name   Latitude  Longitude  Temperature  Latitude Humidity  \\\n",
       "0  nanortalik  59.113474 -39.391507        22.50                 87   \n",
       "1        tame   6.279172 -71.533507        73.69                 68   \n",
       "\n",
       "   Cloudiness  Wind Speed  \n",
       "0           0        4.47  \n",
       "1          78        4.47  "
      ],
      "text/html": "<div>\n<style scoped>\n    .dataframe tbody tr th:only-of-type {\n        vertical-align: middle;\n    }\n\n    .dataframe tbody tr th {\n        vertical-align: top;\n    }\n\n    .dataframe thead th {\n        text-align: right;\n    }\n</style>\n<table border=\"1\" class=\"dataframe\">\n  <thead>\n    <tr style=\"text-align: right;\">\n      <th></th>\n      <th>City Name</th>\n      <th>Latitude</th>\n      <th>Longitude</th>\n      <th>Temperature</th>\n      <th>Latitude Humidity</th>\n      <th>Cloudiness</th>\n      <th>Wind Speed</th>\n    </tr>\n  </thead>\n  <tbody>\n    <tr>\n      <th>0</th>\n      <td>nanortalik</td>\n      <td>59.113474</td>\n      <td>-39.391507</td>\n      <td>22.50</td>\n      <td>87</td>\n      <td>0</td>\n      <td>4.47</td>\n    </tr>\n    <tr>\n      <th>1</th>\n      <td>tame</td>\n      <td>6.279172</td>\n      <td>-71.533507</td>\n      <td>73.69</td>\n      <td>68</td>\n      <td>78</td>\n      <td>4.47</td>\n    </tr>\n  </tbody>\n</table>\n</div>"
     },
     "metadata": {},
     "execution_count": 26
    }
   ],
   "source": [
    "########JSON DATA #########\n",
    "#base_url\n",
    "base_url=\"http://api.openweathermap.org/data/2.5/weather?\"\n",
    "\n",
    "#######################\n",
    "\n",
    "# # Get latitude and temperature for cities\n",
    "# cities = [\"Paris\", \"London\", \"Oslo\", \"Beijing\", \"Mumbai\", \"Manila\", \"New York\", \"Seattle\", \"Dallas\", \"Taipei\"]\n",
    "\n",
    "#Set up empty lists (for filling in in the for loop). Avoid using variables with same names as in API\n",
    " # Latitude, Longitude, Temperature(F), Latitude Humidity, Cloudiness, Windspeed\n",
    "lat_list=[] #Latitude (°)\n",
    "long_list=[] #Longitude (°)\n",
    "city_list=[] #city name\n",
    "temp_list=[] #Temperature(F)\n",
    "lat_hum_list=[] #Latitude Humidity\n",
    "cloud_list=[] #Cloudiness\n",
    "winds_list=[] #windspeed\n",
    "\n",
    "for x in range(10):\n",
    "    #Random pick of latitude between -90 and 90 deg\n",
    "    #Save latitudes into list \"lat_list\" \n",
    "    latitude=random.uniform(-90,90)\n",
    "    lat_list.append(latitude)\n",
    "    #Random pick of latitude between -180 and 180 deg\n",
    "    #Save latitudes into list \"lat_list\" \n",
    "    longitude=random.uniform(-180,180)\n",
    "    long_list.append(longitude)\n",
    "    #Find the nearest city based on the random latitude and longitude variable\n",
    "    city=citipy.nearest_city(latitude, longitude).city_name\n",
    "    city_list.append(city)\n",
    "\n",
    "    ####FOR THE CITY (in each loop), find variable values via JSON Data\n",
    "    #Variable for query url. \"imperial\":farenheit, \"metric\":celcius, \"\":kelvin. \n",
    "    #Use \"imperial\" as farenheit has been requested in project.\n",
    "    units=\"imperial\"\n",
    "    print(city)\n",
    "    #query url\n",
    "    query_url=f\"{base_url}appid={weather_api_key}&units={units}&q={city}\"\n",
    "    ######Define variable \"weather\" and read the json file\n",
    "    weather=requests.get(query_url).json()\n",
    "    #Find temperature(F)\n",
    "    temperature=weather[\"main\"][\"temp\"]\n",
    "    temp_list.append(temperature)\n",
    "    #Find latitude humidity (%)\n",
    "    lat_hum=weather[\"main\"][\"humidity\"]\n",
    "    lat_hum_list.append(lat_hum)\n",
    "    #Cloudiness (%)\n",
    "    cloud=weather[\"clouds\"][\"all\"]\n",
    "    cloud_list.append(cloud)\n",
    "    #Windspeed (miles/hr)\n",
    "    winds=weather[\"wind\"][\"speed\"]\n",
    "    winds_list.append(winds)\n",
    "\n",
    "\n",
    "    # #Request and get URL, and transform to JSON. \n",
    "    # #For units, use \"imperial\" as farenheit has been requested in project.\n",
    "    # deg=\"\\xb0\" #degree sign\n",
    "    # city=\"London\"\n",
    "    # units=\"imperial\"\n",
    "    # url=f\"http://api.openweathermap.org/data/2.5/weather?q={city}&appid={weather_api_key}&units={units}\"\n",
    "    # ######Define variable \"weather\" and read the json file\n",
    "    # weather=requests.get(url).json()\n",
    "\n",
    "print(lat_list)\n",
    "print(long_list)\n",
    "print(city_list)\n",
    "print(temp_list)\n",
    "print(lat_hum_list)\n",
    "print(cloud_list)\n",
    "print(winds_list)\n",
    "\n",
    "#Create a dataframe from the lists created \n",
    "weather_dict={\n",
    "    \"City Name\":city_list, \n",
    "    \"Latitude\":lat_list, \n",
    "    \"Longitude\":long_list,\n",
    "    \"Temperature\": temp_list,\n",
    "    \"Latitude Humidity\": lat_hum_list,\n",
    "    \"Cloudiness\": cloud_list,\n",
    "    \"Wind Speed\": winds_list\n",
    "    }\n",
    "\n",
    "weather_data = pd.DataFrame(weather_dict)\n",
    "weather_data"
   ]
  },
  {
   "cell_type": "code",
   "execution_count": null,
   "metadata": {},
   "outputs": [],
   "source": []
  },
  {
   "cell_type": "code",
   "execution_count": null,
   "metadata": {},
   "outputs": [],
   "source": []
  },
  {
   "cell_type": "code",
   "execution_count": 4,
   "metadata": {},
   "outputs": [],
   "source": [
    "#First, define variable in the URL being requested\n",
    "# city_name=input(\"What city weather forecast do you want to see?\")\n",
    "# # weather_api_key=\"930a0ebb6693ce57a3b56e75a9b3893c\"\n",
    "# #Request and get URL, and transform to JSON.\n",
    "# response=requests.get(f\"http://api.openweathermap.org/data/2.5/weather?q={city_name}&appid={weather_api_key}&units=imperial\").json()\n",
    "# #Print the output of JSON formatted\n",
    "# print(json.dumps(response, indent=4, sort_keys=True))\n"
   ]
  },
  {
   "cell_type": "code",
   "execution_count": 5,
   "metadata": {},
   "outputs": [
    {
     "output_type": "stream",
     "name": "stdout",
     "text": [
      "perth\n"
     ]
    }
   ],
   "source": [
    "#citipy.nearest_city(lat_lng[0], lat_lng[1]).city_name\n",
    "#latitudes(-90 to 90) and longitudes(-180 to 180) \n",
    "city = citipy.nearest_city(-31, 115).city_name\n",
    "print(city)"
   ]
  },
  {
   "cell_type": "code",
   "execution_count": 6,
   "metadata": {},
   "outputs": [
    {
     "output_type": "stream",
     "name": "stdout",
     "text": [
      "-35.36615488246001\n-51.19939449367611\n88.68202092814482\n20.668002296234235\n12.340546872538425\n-22.19223699060015\n67.77142033285307\n-65.83640254672302\n52.59233040793211\n-83.82506527892276\n"
     ]
    }
   ],
   "source": [
    "#Make lists\n",
    "latitude=[]\n",
    "longitude=[]\n",
    "#Loop 10 times\n",
    "for x in range(10):\n",
    "    latitude=random.uniform(-90,90)\n",
    "    print(latitude)\n",
    "    # latitude=list(map(float,latitude))\n",
    "    # latitude.append(latitude)\n",
    "    # print(lat_value_list)\n",
    "    # longitude=random.uniform(-180,180)\n",
    "    # #print(longitude)\n",
    "\n",
    "    # city = citipy.nearest_city(latitude,longitude).city_name\n",
    "    # #print(city)\n",
    "\n",
    "    # latitude\n",
    "    # # #Put columns into dataframe; latitude, longitude, city\n",
    "    # # weather_df=pd.DataFrame({'latitude' : [latitude],\n",
    "    # #                             'longitude' : [longitude],\n",
    "    # #                             'city' : [city] }, \n",
    "    # #                             columns=['latitude','longitude', 'city'])\n",
    "    # # weather_df\n",
    "\n",
    "#Append List\n",
    "#latitude.append(latitude)"
   ]
  },
  {
   "cell_type": "code",
   "execution_count": null,
   "metadata": {},
   "outputs": [],
   "source": []
  }
 ]
}